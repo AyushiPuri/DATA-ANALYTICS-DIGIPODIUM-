{
 "cells": [
  {
   "cell_type": "markdown",
   "metadata": {},
   "source": [
    "condition"
   ]
  },
  {
   "cell_type": "code",
   "execution_count": 1,
   "metadata": {},
   "outputs": [
    {
     "name": "stdout",
     "output_type": "stream",
     "text": [
      "division by 7\n",
      "hurray🎉🎉\n",
      "the end\n"
     ]
    }
   ],
   "source": [
    "a=int(input(\"enter the number\"))\n",
    "if a%7==0:\n",
    "    print('division by 7')\n",
    "    print('hurray🎉🎉')\n",
    "print('the end')            "
   ]
  },
  {
   "cell_type": "code",
   "execution_count": 3,
   "metadata": {},
   "outputs": [
    {
     "name": "stdout",
     "output_type": "stream",
     "text": [
      "password is too short\n"
     ]
    }
   ],
   "source": [
    "pwd=input(\"enter password\")\n",
    "if len(pwd)>=8:\n",
    "    print('password is ok')\n",
    "else:\n",
    "        print('password is too short')"
   ]
  },
  {
   "cell_type": "code",
   "execution_count": 11,
   "metadata": {},
   "outputs": [
    {
     "name": "stdout",
     "output_type": "stream",
     "text": [
      "your report\n",
      "percentage:95.83%\n",
      "grade:a\n"
     ]
    }
   ],
   "source": [
    "marks=int(input('enter marks'))\n",
    "total=600\n",
    "pct=marks/total*100\n",
    "if pct>=90:\n",
    "    grade='a'\n",
    "elif pct>=75:\n",
    "     grade='b'\n",
    "elif pct>=60:\n",
    "      grade='c'\n",
    "elif pct>=40:\n",
    "      grade='d'\n",
    "else:\n",
    "     grade='f'\n",
    "print(f'your report')\n",
    "print(f'percentage:{pct:.2f}%')\n",
    "print(f'grade:{grade}')"
   ]
  },
  {
   "cell_type": "markdown",
   "metadata": {},
   "source": [
    "match case does not allow comparison,only pattern or vaue matching"
   ]
  },
  {
   "cell_type": "code",
   "execution_count": 15,
   "metadata": {},
   "outputs": [
    {
     "name": "stdout",
     "output_type": "stream",
     "text": [
      "what is the square root of 16?\n",
      "this is absurd\n"
     ]
    }
   ],
   "source": [
    "print(\"what is the square root of 16?\")\n",
    "ans=int(input(\"answer\"))\n",
    "match ans :\n",
    "    case 2:print('incorrect')\n",
    "    case 4:print('correct') \n",
    "    case _:print('this is absurd')"
   ]
  },
  {
   "cell_type": "markdown",
   "metadata": {},
   "source": [
    "loops\n",
    " - `for` loop-interation loop\n",
    " - `while` loop-condition based"
   ]
  },
  {
   "cell_type": "code",
   "execution_count": 5,
   "metadata": {},
   "outputs": [
    {
     "name": "stdout",
     "output_type": "stream",
     "text": [
      "the good father\n",
      "fifth shades of grey\n",
      "jab we met\n",
      "the dark knight\n",
      "fighter\n"
     ]
    }
   ],
   "source": [
    "movies=['the good father','fifth shades of grey','jab we met','the dark knight','fighter']\n",
    "for movie in movies:\n",
    "    print(movie)"
   ]
  },
  {
   "cell_type": "code",
   "execution_count": 6,
   "metadata": {},
   "outputs": [
    {
     "name": "stdout",
     "output_type": "stream",
     "text": [
      "100\n",
      "102\n",
      "104\n",
      "106\n",
      "108\n"
     ]
    }
   ],
   "source": [
    "for i in range(100,110,2):\n",
    "    print(i)"
   ]
  },
  {
   "cell_type": "code",
   "execution_count": 7,
   "metadata": {},
   "outputs": [
    {
     "name": "stdout",
     "output_type": "stream",
     "text": [
      "10\n",
      "9\n",
      "8\n",
      "7\n",
      "6\n",
      "5\n",
      "4\n",
      "3\n",
      "2\n",
      "1\n"
     ]
    }
   ],
   "source": [
    "for a in range(10,0,-1):\n",
    "    print(a)"
   ]
  },
  {
   "cell_type": "code",
   "execution_count": 8,
   "metadata": {},
   "outputs": [],
   "source": [
    "#sum of all even number from 0 to 100"
   ]
  },
  {
   "cell_type": "code",
   "execution_count": 11,
   "metadata": {},
   "outputs": [
    {
     "name": "stdout",
     "output_type": "stream",
     "text": [
      "2450\n"
     ]
    }
   ],
   "source": [
    "total=0\n",
    "for i in range(0,100,2):\n",
    "     total+=i\n",
    "print(total)"
   ]
  },
  {
   "cell_type": "code",
   "execution_count": 12,
   "metadata": {},
   "outputs": [
    {
     "data": {
      "text/plain": [
       "2450"
      ]
     },
     "execution_count": 12,
     "metadata": {},
     "output_type": "execute_result"
    }
   ],
   "source": [
    "sum(range(0,100,2)) #same but pythonic\n"
   ]
  },
  {
   "cell_type": "code",
   "execution_count": 13,
   "metadata": {},
   "outputs": [
    {
     "data": {
      "text/plain": [
       "3628800"
      ]
     },
     "execution_count": 13,
     "metadata": {},
     "output_type": "execute_result"
    }
   ],
   "source": [
    "10*9*8*7*6*5*4*3*2*1 #wap to display a factorial of a number(chatgpt)"
   ]
  },
  {
   "cell_type": "markdown",
   "metadata": {},
   "source": [
    "`while condition`:\n",
    "\n",
    "\n",
    "  ` statement1`\n",
    "\n",
    "  \n",
    "     `statement n`"
   ]
  },
  {
   "cell_type": "code",
   "execution_count": 15,
   "metadata": {},
   "outputs": [
    {
     "name": "stdout",
     "output_type": "stream",
     "text": [
      "1\n",
      "2\n",
      "3\n",
      "4\n",
      "5\n",
      "6\n",
      "7\n",
      "8\n",
      "9\n"
     ]
    }
   ],
   "source": [
    "i=1\n",
    "while i<10:\n",
    "    print(i)\n",
    "    i+=1"
   ]
  },
  {
   "cell_type": "code",
   "execution_count": 18,
   "metadata": {},
   "outputs": [
    {
     "name": "stdout",
     "output_type": "stream",
     "text": [
      "you need to learn more and increase your iq\n",
      "you need to learn more and increase your iq\n"
     ]
    }
   ],
   "source": [
    " while True:\n",
    "    iq=int(input('enter IQ'))\n",
    "    if iq >120:\n",
    "        print('you are not eligible')\n",
    "        break\n",
    "    print('you need to learn more and increase your iq')"
   ]
  },
  {
   "cell_type": "code",
   "execution_count": null,
   "metadata": {},
   "outputs": [],
   "source": []
  }
 ],
 "metadata": {
  "kernelspec": {
   "display_name": "base",
   "language": "python",
   "name": "python3"
  },
  "language_info": {
   "codemirror_mode": {
    "name": "ipython",
    "version": 3
   },
   "file_extension": ".py",
   "mimetype": "text/x-python",
   "name": "python",
   "nbconvert_exporter": "python",
   "pygments_lexer": "ipython3",
   "version": "3.11.5"
  }
 },
 "nbformat": 4,
 "nbformat_minor": 2
}
