{
 "cells": [
  {
   "cell_type": "code",
   "execution_count": 5,
   "metadata": {},
   "outputs": [],
   "source": [
    "from database import user,Message\n",
    "from database import get_db,add_to_db"
   ]
  },
  {
   "cell_type": "code",
   "execution_count": null,
   "metadata": {},
   "outputs": [],
   "source": [
    "#directly adding data to database\n",
    "u1 = user(name=\"Ayushi\", email=\"puriayushi01@gmail.com\",password='123445')\n",
    "u2 = user(name=\"Mayurika\", email=\"mayurika002@gmail.com\",password='1234985')\n",
    "u3 = user(name=\"Shambhavi\", email=\"shambhavi008@gmail.com\",password='12385')\n",
    "add_to_db(u1)\n",
    "add_to_db(u2)\n",
    "add_to_db(u3)\n",
    "print(\"data added to the database\")\n",
    "\n"
   ]
  },
  {
   "cell_type": "code",
   "execution_count": 6,
   "metadata": {},
   "outputs": [
    {
     "name": "stdout",
     "output_type": "stream",
     "text": [
      "data added to the database\n"
     ]
    }
   ],
   "source": [
    "m1 = Message(message=\"best\", user_id=\"123\")\n",
    "m2 = Message(message=\"better\",user_id=\"268\")\n",
    "m3 = Message(message=\"good\",user_id=\"374\")\n",
    "add_to_db(m1)\n",
    "add_to_db(m2)\n",
    "add_to_db(m3)\n",
    "print(\"data added to the database\")\n"
   ]
  },
  {
   "cell_type": "code",
   "execution_count": null,
   "metadata": {},
   "outputs": [],
   "source": []
  }
 ],
 "metadata": {
  "kernelspec": {
   "display_name": "base",
   "language": "python",
   "name": "python3"
  },
  "language_info": {
   "codemirror_mode": {
    "name": "ipython",
    "version": 3
   },
   "file_extension": ".py",
   "mimetype": "text/x-python",
   "name": "python",
   "nbconvert_exporter": "python",
   "pygments_lexer": "ipython3",
   "version": "3.11.5"
  }
 },
 "nbformat": 4,
 "nbformat_minor": 2
}
