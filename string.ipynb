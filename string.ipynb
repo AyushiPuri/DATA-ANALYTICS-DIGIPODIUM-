{
 "cells": [
  {
   "cell_type": "markdown",
   "metadata": {},
   "source": [
    "searching and replacing\n",
    "1. find\n",
    "2. replace"
   ]
  },
  {
   "cell_type": "code",
   "execution_count": 3,
   "metadata": {},
   "outputs": [
    {
     "name": "stdout",
     "output_type": "stream",
     "text": [
      "16\n",
      "12\n",
      "-1\n"
     ]
    }
   ],
   "source": [
    "msg='the quick brown fox jumps over the lazy dog'\n",
    "print(msg.find('fox'))\n",
    "print(msg.find('o'))\n",
    "print(msg.find('bear'))"
   ]
  },
  {
   "cell_type": "code",
   "execution_count": 4,
   "metadata": {},
   "outputs": [
    {
     "name": "stdout",
     "output_type": "stream",
     "text": [
      "the quick brown elephant jumps over the lazy dog\n",
      "the quick briwn fix jumps iver the lazy dig\n",
      "the quick brown unicorn jumps over the lazy rabbit\n"
     ]
    }
   ],
   "source": [
    "msg='the quick brown fox jumps over the lazy dog'\n",
    "print(msg.replace('fox','elephant'))\n",
    "print(msg.replace('o','i'))\n",
    "print(msg.replace('fox','unicorn').replace('dog','rabbit'))"
   ]
  },
  {
   "cell_type": "markdown",
   "metadata": {},
   "source": [
    "manipulation of string into list and vice versa\n",
    "\n",
    "  1. split\n",
    "  2. join\n",
    "  3. strip"
   ]
  },
  {
   "cell_type": "code",
   "execution_count": 10,
   "metadata": {},
   "outputs": [
    {
     "name": "stdout",
     "output_type": "stream",
     "text": [
      "['the', 'quick', 'brown', 'fox', 'jumps', 'over', 'the', 'lazy', 'dog']\n",
      "['life', 'before', 'death,strength', 'before', 'weak,journey', 'before', 'success']\n",
      "['johny', 'johny', 'yes', 'papa', 'eating', 'sugar', 'no', 'papa']\n"
     ]
    }
   ],
   "source": [
    "print(msg.split())\n",
    "msg2=\"life before death,strength before weak,journey before success\"\n",
    "print(msg2.split())\n",
    "poem='''johny johny yes papa eating sugar no papa'''\n",
    "print(poem.split())"
   ]
  },
  {
   "cell_type": "code",
   "execution_count": 8,
   "metadata": {},
   "outputs": [
    {
     "name": "stdout",
     "output_type": "stream",
     "text": [
      "a.b.c.d.e\n",
      "a+b+c+d+e\n",
      "a,b,c,d,e\n",
      "a#b#c#d#e\n"
     ]
    }
   ],
   "source": [
    "x = ['a','b','c','d','e']\n",
    "print(\".\".join(x))\n",
    "print(\"+\".join(x))\n",
    "print(\",\".join(x))\n",
    "print(\"#\".join(x))"
   ]
  },
  {
   "cell_type": "code",
   "execution_count": 12,
   "metadata": {},
   "outputs": [
    {
     "name": "stdout",
     "output_type": "stream",
     "text": [
      "apple\n",
      "cake\n",
      "uni\n",
      "ola\n"
     ]
    }
   ],
   "source": [
    "a='apple'\n",
    "b='cake'\n",
    "c='uni'\n",
    "d='''\n",
    "ola\n",
    "\n",
    "'''\n",
    "print(a.strip())\n",
    "print(b.strip())\n",
    "print(c.strip())\n",
    "print(d.strip())"
   ]
  },
  {
   "cell_type": "markdown",
   "metadata": {},
   "source": [
    "counting\n",
    "1. count"
   ]
  },
  {
   "cell_type": "code",
   "execution_count": 13,
   "metadata": {},
   "outputs": [
    {
     "name": "stdout",
     "output_type": "stream",
     "text": [
      "7\n",
      "1\n",
      "2\n",
      "1\n"
     ]
    }
   ],
   "source": [
    "sentence='''once upon a time,in a land far away,there lived a princess,with her pet unicorn'''\n",
    "print(sentence.count('a'))\n",
    "print(sentence.count('far'))\n",
    "print(sentence.count('in'))\n",
    "print(sentence.count('unicorn'))\n"
   ]
  },
  {
   "cell_type": "markdown",
   "metadata": {},
   "source": [
    "formating\n",
    "1. upper\n",
    "2. lower\n",
    "3. capitalize\n",
    "4. title"
   ]
  },
  {
   "cell_type": "code",
   "execution_count": 14,
   "metadata": {},
   "outputs": [
    {
     "name": "stdout",
     "output_type": "stream",
     "text": [
      "THE QUICK BROWN FOX JUMPS OVER THE LAZY DOG\n",
      "the quick brown fox jumps over the lazy dog\n",
      "The quick brown fox jumps over the lazy dog\n",
      "The Quick Brown Fox Jumps Over The Lazy Dog\n"
     ]
    }
   ],
   "source": [
    "print(msg.upper())\n",
    "print(msg.lower())\n",
    "print(msg.capitalize())\n",
    "print(msg.title())"
   ]
  },
  {
   "cell_type": "code",
   "execution_count": null,
   "metadata": {},
   "outputs": [],
   "source": []
  }
 ],
 "metadata": {
  "kernelspec": {
   "display_name": "base",
   "language": "python",
   "name": "python3"
  },
  "language_info": {
   "codemirror_mode": {
    "name": "ipython",
    "version": 3
   },
   "file_extension": ".py",
   "mimetype": "text/x-python",
   "name": "python",
   "nbconvert_exporter": "python",
   "pygments_lexer": "ipython3",
   "version": "3.11.5"
  }
 },
 "nbformat": 4,
 "nbformat_minor": 2
}
