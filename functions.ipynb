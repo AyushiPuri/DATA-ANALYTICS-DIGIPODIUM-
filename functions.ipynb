{
 "cells": [
  {
   "cell_type": "code",
   "execution_count": 4,
   "metadata": {},
   "outputs": [],
   "source": [
    "def greetings():\n",
    "    print('🎉'*2)\n",
    "    print('congratulations')\n",
    "    print('🎉'*2)"
   ]
  },
  {
   "cell_type": "code",
   "execution_count": 3,
   "metadata": {},
   "outputs": [
    {
     "name": "stdout",
     "output_type": "stream",
     "text": [
      "🎉🎉🎉🎉🎉🎉🎉🎉🎉🎉\n",
      "congratulations\n",
      "🎉🎉🎉🎉🎉🎉🎉🎉🎉🎉\n"
     ]
    }
   ],
   "source": [
    "greetings()"
   ]
  },
  {
   "cell_type": "code",
   "execution_count": 6,
   "metadata": {},
   "outputs": [],
   "source": [
    "def hyp(p,b):\n",
    "    c=(p**2+b**2)**0.5\n",
    "    print(c)"
   ]
  },
  {
   "cell_type": "code",
   "execution_count": 10,
   "metadata": {},
   "outputs": [
    {
     "name": "stdout",
     "output_type": "stream",
     "text": [
      "5.0\n",
      "13.601470508735444\n",
      "26.92582403567252\n"
     ]
    }
   ],
   "source": [
    "hyp(3,4)\n",
    "hyp(13,4)\n",
    "hyp(7,26)"
   ]
  },
  {
   "cell_type": "code",
   "execution_count": 15,
   "metadata": {},
   "outputs": [],
   "source": [
    "def rect_area(length,breadth):\n",
    "    area= length*breadth\n",
    "    return area"
   ]
  },
  {
   "cell_type": "code",
   "execution_count": 16,
   "metadata": {},
   "outputs": [
    {
     "name": "stdout",
     "output_type": "stream",
     "text": [
      "200\n"
     ]
    }
   ],
   "source": [
    "a=rect_area(10,20)\n",
    "print(a)"
   ]
  },
  {
   "cell_type": "code",
   "execution_count": 17,
   "metadata": {},
   "outputs": [
    {
     "name": "stdout",
     "output_type": "stream",
     "text": [
      "200\n",
      "1200\n",
      "1400\n"
     ]
    }
   ],
   "source": [
    "a=rect_area(10,20)\n",
    "b=rect_area(30,40)\n",
    "print(a)\n",
    "print(b)\n",
    "print(a+b)"
   ]
  },
  {
   "cell_type": "code",
   "execution_count": 19,
   "metadata": {},
   "outputs": [],
   "source": [
    "from random import  choice\n",
    "def roll_dice():\n",
    "    faces=['1️⃣','2️⃣','3️⃣','4️⃣','5️⃣','6️⃣']\n",
    "    chosen=choice(faces)\n",
    "    return chosen\n"
   ]
  },
  {
   "cell_type": "code",
   "execution_count": 21,
   "metadata": {},
   "outputs": [
    {
     "name": "stdout",
     "output_type": "stream",
     "text": [
      "5️⃣ 4️⃣\n",
      "5️⃣ 4️⃣\n",
      "6️⃣ 6️⃣\n"
     ]
    }
   ],
   "source": [
    "print(roll_dice(),roll_dice())\n",
    "print(roll_dice(),roll_dice())\n",
    "print(roll_dice(),roll_dice())"
   ]
  },
  {
   "cell_type": "code",
   "execution_count": 27,
   "metadata": {},
   "outputs": [],
   "source": [
    "def get_total(price,bank_card):\n",
    "    if bank_card=='axis':\n",
    "        discount =price*0.10 #10% discount\n",
    "        return price -discount\n",
    "    elif bank_card=='pnb':\n",
    "        discount=price*0.15   \n",
    "        return  price -discount\n",
    "    elif bank_card=='sbi':\n",
    "        discount=price*0.02\n",
    "        cashback=2000\n",
    "        return price-discount-cashback\n",
    "    else:\n",
    "        return price\n"
   ]
  },
  {
   "cell_type": "code",
   "execution_count": 29,
   "metadata": {},
   "outputs": [
    {
     "name": "stdout",
     "output_type": "stream",
     "text": [
      "39160.0 37800.0 42000 None\n"
     ]
    }
   ],
   "source": [
    "a=get_total(42000,'sbi')\n",
    "b=get_total(42000,'axis')\n",
    "c=get_total(42000,'icici')\n",
    "d=get_total(42000,'pnb')\n",
    "print(a,b,c,d)"
   ]
  },
  {
   "cell_type": "code",
   "execution_count": null,
   "metadata": {},
   "outputs": [],
   "source": []
  }
 ],
 "metadata": {
  "kernelspec": {
   "display_name": "base",
   "language": "python",
   "name": "python3"
  },
  "language_info": {
   "codemirror_mode": {
    "name": "ipython",
    "version": 3
   },
   "file_extension": ".py",
   "mimetype": "text/x-python",
   "name": "python",
   "nbconvert_exporter": "python",
   "pygments_lexer": "ipython3",
   "version": "3.11.5"
  }
 },
 "nbformat": 4,
 "nbformat_minor": 2
}
